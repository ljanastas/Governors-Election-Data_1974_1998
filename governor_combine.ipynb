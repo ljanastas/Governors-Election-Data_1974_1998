{
  "nbformat": 4,
  "nbformat_minor": 0,
  "metadata": {
    "colab": {
      "name": "governor_combine.ipynb",
      "provenance": [],
      "authorship_tag": "ABX9TyNP7HDbIooGTrHGBpGGAvCQ",
      "include_colab_link": true
    },
    "kernelspec": {
      "name": "python3",
      "display_name": "Python 3"
    }
  },
  "cells": [
    {
      "cell_type": "markdown",
      "metadata": {
        "id": "view-in-github",
        "colab_type": "text"
      },
      "source": [
        "<a href=\"https://colab.research.google.com/github/ljanastas/Governors-Election-Data_1974_1998/blob/master/governor_combine.ipynb\" target=\"_parent\"><img src=\"https://colab.research.google.com/assets/colab-badge.svg\" alt=\"Open In Colab\"/></a>"
      ]
    },
    {
      "cell_type": "markdown",
      "metadata": {
        "id": "5jy4LkZtsktG",
        "colab_type": "text"
      },
      "source": [
        "# Extract incumbents from compiled data."
      ]
    },
    {
      "cell_type": "code",
      "metadata": {
        "id": "WlVKcSKcshGc",
        "colab_type": "code",
        "colab": {}
      },
      "source": [
        "# Python file\n",
        "import os, csv,re\n",
        "from unique import unique\n",
        "\n",
        "a = open('govdata1974200.csv','rb')\n",
        "inputfile = csv.reader(a, delimiter = ',',quotechar = '\"')\n",
        "\n",
        "b = open('incumbvoteshare.csv','wb')\n",
        "outputfile = csv.writer(b, delimiter = ',', quotechar = '\"')\n",
        "\n",
        "callablerow = []\n",
        "for rows in inputfile:\n",
        "\tcallablerow.append(rows)\n",
        "\n",
        "states = []\n",
        "for row in callablerow[1:]:\n",
        "\tstates.append(row[5])\n",
        "\n",
        "states = sorted(unique(states))\n",
        "statenum = range(1,9) + range(10,52)\n",
        "\n",
        "statedict = [(x,y) for x,y in zip(states,statenum)]\n",
        "statedict = dict(statedict)\n",
        "\n",
        "\n",
        "\n",
        "\n",
        "\n",
        "\n",
        "\n",
        "headers = ['state', 'repstatus', 'demstatus', 'incumbent', 'statenum']\n",
        "outputfile.writerow(headers)\n",
        "\n",
        "# This is the incumbent party voteshare\n",
        "for row in callablerow[1:]:\n",
        "\toutputrow = []\n",
        "\tstate = row[5]\n",
        "\trepstatus = row[8]\n",
        "\tdemstatus = row[11]\n",
        "\trepvote = row[20]\n",
        "\tdemvote = row[21]\n",
        "\tyear = row[2]\n",
        "\tipv = []\n",
        "\tif 'Challenger' in repstatus and 'Incumbent' in demstatus:\n",
        "\t\tipv.append(demvote)\n",
        "\telif 'Incumbent' in repstatus and 'Challenger' in demstatus:\n",
        "\t\tipv.append(repvote)\n",
        "\telif 'N/A' in repstatus and 'Incumbent' in demstatus:\n",
        "\t\tipv.append(demvote)\n",
        "\telif 'Incumbent' in repstatus and 'N/A' in demstatus:\n",
        "\t\tipv.append(repvote)\n",
        "\telse:\n",
        "\t\tipv.append('.')\n",
        "\toutputrow.append(state)\n",
        "\toutputrow.append(repstatus)\n",
        "\toutputrow.append(demstatus)\n",
        "\toutputrow.append(year)\n",
        "\toutputrow.append(ipv[0])\n",
        "\toutputrow.append(statedict[state])\n",
        "\toutputfile.writerow(outputrow)\n",
        "\n",
        "a.close()\n",
        "b.close()"
      ],
      "execution_count": 0,
      "outputs": []
    }
  ]
}